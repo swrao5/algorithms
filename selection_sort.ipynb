{
 "cells": [
  {
   "cell_type": "code",
   "execution_count": 3,
   "metadata": {},
   "outputs": [],
   "source": [
    "def find_smallest(arr):\n",
    "   smallest = arr[0]\n",
    "   smallest_index = 0\n",
    "\n",
    "   for i in range(len(arr)):\n",
    "      if arr[i] < smallest:\n",
    "         smallest = arr[i]\n",
    "         smallest_index=i\n",
    "   return smallest_index\n",
    "\n",
    "def selection_sort(arr):\n",
    "   sorted_array = []\n",
    "\n",
    "   for i in range(len(arr)):\n",
    "      sorted_array.append(arr.pop(find_smallest(arr)))\n",
    "   return sorted_array"
   ]
  },
  {
   "cell_type": "code",
   "execution_count": 4,
   "metadata": {},
   "outputs": [
    {
     "data": {
      "text/plain": [
       "[2, 3, 5, 6, 10]"
      ]
     },
     "execution_count": 4,
     "metadata": {},
     "output_type": "execute_result"
    }
   ],
   "source": [
    "selection_sort([5, 3, 6, 2, 10])"
   ]
  }
 ],
 "metadata": {
  "kernelspec": {
   "display_name": "Python 3",
   "language": "python",
   "name": "python3"
  },
  "language_info": {
   "codemirror_mode": {
    "name": "ipython",
    "version": 3
   },
   "file_extension": ".py",
   "mimetype": "text/x-python",
   "name": "python",
   "nbconvert_exporter": "python",
   "pygments_lexer": "ipython3",
   "version": "3.9.13"
  }
 },
 "nbformat": 4,
 "nbformat_minor": 2
}
