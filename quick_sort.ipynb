{
 "cells": [
  {
   "cell_type": "code",
   "execution_count": 6,
   "metadata": {},
   "outputs": [],
   "source": [
    "def quicksort_recursion(list_, pivot):\n",
    "   if len(list_) <= 1:\n",
    "      return list_\n",
    "   else:\n",
    "      lower_list_ = [i for i in list_ if (i < list_[pivot])]\n",
    "      higher_list_ = [i for i in list_ if (i > list_[pivot])]\n",
    "\n",
    "      return quicksort_recursion(lower_list_, pivot) + [list_[pivot]] + quicksort_recursion(higher_list_, pivot)"
   ]
  },
  {
   "cell_type": "code",
   "execution_count": 7,
   "metadata": {},
   "outputs": [
    {
     "data": {
      "text/plain": [
       "[3, 7, 10, 15, 25]"
      ]
     },
     "execution_count": 7,
     "metadata": {},
     "output_type": "execute_result"
    }
   ],
   "source": [
    "my_list = [10, 15, 7, 3, 25]\n",
    "quicksort_recursion(my_list, 0)"
   ]
  }
 ],
 "metadata": {
  "kernelspec": {
   "display_name": "Python 3",
   "language": "python",
   "name": "python3"
  },
  "language_info": {
   "codemirror_mode": {
    "name": "ipython",
    "version": 3
   },
   "file_extension": ".py",
   "mimetype": "text/x-python",
   "name": "python",
   "nbconvert_exporter": "python",
   "pygments_lexer": "ipython3",
   "version": "3.9.13"
  }
 },
 "nbformat": 4,
 "nbformat_minor": 2
}
